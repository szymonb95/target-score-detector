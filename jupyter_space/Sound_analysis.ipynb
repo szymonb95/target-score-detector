{
 "cells": [
  {
   "cell_type": "code",
   "execution_count": 2,
   "id": "3045d814-3ed1-4d9e-9a5b-b023a9a6e31e",
   "metadata": {
    "tags": []
   },
   "outputs": [],
   "source": [
    "import moviepy.editor as mp\n",
    "\n",
    "clip = mp.VideoFileClip(\"../res/input/02.mp4\")"
   ]
  },
  {
   "cell_type": "code",
   "execution_count": 3,
   "id": "8466822b-26bb-4ec0-b4f8-1925e319be27",
   "metadata": {
    "tags": []
   },
   "outputs": [
    {
     "data": {
      "text/plain": [
       "<moviepy.audio.io.AudioFileClip.AudioFileClip at 0x7f6dd4190610>"
      ]
     },
     "execution_count": 3,
     "metadata": {},
     "output_type": "execute_result"
    }
   ],
   "source": [
    "clip.audio"
   ]
  },
  {
   "cell_type": "code",
   "execution_count": null,
   "id": "03ff4562-cb06-4337-b5d3-ec7e497eb4bb",
   "metadata": {},
   "outputs": [],
   "source": []
  }
 ],
 "metadata": {
  "kernelspec": {
   "display_name": "Python 3",
   "language": "python",
   "name": "python3"
  },
  "language_info": {
   "codemirror_mode": {
    "name": "ipython",
    "version": 3
   },
   "file_extension": ".py",
   "mimetype": "text/x-python",
   "name": "python",
   "nbconvert_exporter": "python",
   "pygments_lexer": "ipython3",
   "version": "3.10.9"
  }
 },
 "nbformat": 4,
 "nbformat_minor": 5
}
